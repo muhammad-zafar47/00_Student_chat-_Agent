{
  "nbformat": 4,
  "nbformat_minor": 0,
  "metadata": {
    "colab": {
      "provenance": [],
      "authorship_tag": "ABX9TyPBVpwSQFOUxmDR4jzPfcYn",
      "include_colab_link": true
    },
    "kernelspec": {
      "name": "python3",
      "display_name": "Python 3"
    },
    "language_info": {
      "name": "python"
    }
  },
  "cells": [
    {
      "cell_type": "markdown",
      "metadata": {
        "id": "view-in-github",
        "colab_type": "text"
      },
      "source": [
        "<a href=\"https://colab.research.google.com/github/muhammad-zafar47/00_Student_chat-_Agent/blob/main/00_Chat_Agent.ipynb\" target=\"_parent\"><img src=\"https://colab.research.google.com/assets/colab-badge.svg\" alt=\"Open In Colab\"/></a>"
      ]
    },
    {
      "cell_type": "markdown",
      "source": [
        "**Student Agent**\n",
        "\n"
      ],
      "metadata": {
        "id": "e4Hlnj4HAoZT"
      }
    },
    {
      "cell_type": "code",
      "source": [
        "%%capture --no-stderr\n",
        "%pip install --quiet -U langchain_google_genai langchain_core langgraph"
      ],
      "metadata": {
        "id": "7-g-_z5V5l4z"
      },
      "execution_count": 1,
      "outputs": []
    },
    {
      "cell_type": "code",
      "source": [
        "from langchain_google_genai import ChatGoogleGenerativeAI\n",
        "from langgraph.graph import MessagesState\n",
        "from langchain_core.messages import AIMessage, HumanMessage, SystemMessage\n",
        "from langgraph.graph.state import CompiledStateGraph\n",
        "from langgraph.graph import START, StateGraph\n",
        "from langgraph.prebuilt import tools_condition, ToolNode\n",
        "from langgraph.checkpoint.memory import MemorySaver\n"
      ],
      "metadata": {
        "id": "N5-OLkkG5lya"
      },
      "execution_count": 43,
      "outputs": []
    },
    {
      "cell_type": "code",
      "source": [
        "# Functions for tools\n",
        "def give_study_plan(subject: str, hours: int) -> str:\n",
        "    \"\"\"Provide a study plan for a given subject and time.\n",
        "\n",
        "    Args:\n",
        "        subject: The subject to study.\n",
        "        hours: Number of hours available.\n",
        "\n",
        "    Returns:\n",
        "        A study plan.\n",
        "    \"\"\"\n",
        "    return f\"Study Plan: Spend {hours // 2} hours reviewing {subject} theory and {hours // 2} hours solving problems.\""
      ],
      "metadata": {
        "id": "v-1iEHyHVvab"
      },
      "execution_count": null,
      "outputs": []
    },
    {
      "cell_type": "code",
      "source": [
        "\n",
        "\n",
        "def submit_complaint(complaint: str) -> str:\n",
        "    \"\"\"Accept and process a user complaint.\n",
        "\n",
        "    Args:\n",
        "        complaint: The user's complaint.\n",
        "\n",
        "    Returns:\n",
        "        Confirmation message.\n",
        "    \"\"\"\n",
        "    return f\"Your complaint has been submitted: '{complaint}'. Thank you for your feedback!\""
      ],
      "metadata": {
        "id": "qHLFI1CQ5lsV"
      },
      "execution_count": 44,
      "outputs": []
    },
    {
      "cell_type": "code",
      "source": [
        "def give_outfit_idea(event: str) -> str:\n",
        "    \"\"\"Suggest an outfit based on the event.\n",
        "\n",
        "    Args:\n",
        "        event: The type of event (e.g., party, interview).\n",
        "\n",
        "    Returns:\n",
        "        Outfit suggestion.\n",
        "    \"\"\"\n",
        "    outfits = {\n",
        "        \"party\": \"Wear a stylish dress or a shirt with trousers and comfortable shoes.\",\n",
        "        \"interview\": \"Wear a formal suit or a neat shirt with pants and formal shoes.\"\n",
        "    }\n",
        "    return outfits.get(event.lower(), \"Choose an outfit that makes you feel confident and comfortable.\")"
      ],
      "metadata": {
        "id": "I-iTvizU5lPh"
      },
      "execution_count": 46,
      "outputs": []
    },
    {
      "cell_type": "code",
      "source": [
        "# Define tools\n",
        "tools = [submit_complaint, give_study_plan, give_outfit_idea]\n"
      ],
      "metadata": {
        "id": "DMXDq-t_68PA"
      },
      "execution_count": 47,
      "outputs": []
    },
    {
      "cell_type": "code",
      "source": [
        "# Initialize the language model\n",
        "from google.colab import userdata\n",
        "GEMINI_API_KEY = userdata.get('GEMINI_API_KEY')\n",
        "llm = ChatGoogleGenerativeAI(model=\"gemini-1.5-flash\", api_key=GEMINI_API_KEY)\n",
        "llm_with_tools = llm.bind_tools(tools)"
      ],
      "metadata": {
        "id": "VUeWS9Lx7Aia"
      },
      "execution_count": 48,
      "outputs": []
    },
    {
      "cell_type": "code",
      "source": [
        "# Define the system message\n",
        "sys_msg = SystemMessage(content=\"You are a helpful chatbot designed to assist students with complaints, study plans, and outfit ideas for events. You also remember the current conversation to provide better answers.\")\n",
        "\n",
        "# Assistant node function\n",
        "def assistant(state: MessagesState) -> MessagesState:\n",
        "    \"\"\"Handles the assistant's actions in the graph.\n",
        "\n",
        "    Args:\n",
        "        state: Current state of the messages.\n",
        "\n",
        "    Returns:\n",
        "        Updated state after processing.\n",
        "    \"\"\"\n",
        "    return {\"messages\": [llm_with_tools.invoke([sys_msg] + state[\"messages\"])]}"
      ],
      "metadata": {
        "id": "Eafjr5ym7LMR"
      },
      "execution_count": 49,
      "outputs": []
    },
    {
      "cell_type": "code",
      "source": [
        "# Build the graph\n",
        "builder: StateGraph = StateGraph(MessagesState)\n",
        "\n",
        "# Add nodes\n",
        "builder.add_node(\"assistant\", assistant)\n",
        "builder.add_node(\"tools\", ToolNode(tools))\n",
        "\n",
        "# Define edges\n",
        "builder.add_edge(START, \"assistant\")\n",
        "builder.add_conditional_edges(\n",
        "    \"assistant\",\n",
        "    tools_condition,\n",
        ")\n",
        "builder.add_edge(\"tools\", \"assistant\")\n",
        "\n",
        "# Compile the graph with memory\n",
        "memory = MemorySaver()\n",
        "react_graph_memory: CompiledStateGraph = builder.compile(checkpointer=memory)\n"
      ],
      "metadata": {
        "id": "xfCsMT-_7jGK"
      },
      "execution_count": 50,
      "outputs": []
    },
    {
      "cell_type": "markdown",
      "source": [],
      "metadata": {
        "id": "qZBw7ZxH0tq3"
      }
    },
    {
      "cell_type": "code",
      "source": [
        "from IPython.display import Image, display\n",
        "display(Image(react_graph_memory.get_graph(xray=True).draw_mermaid_png()))"
      ],
      "metadata": {
        "colab": {
          "base_uri": "https://localhost:8080/",
          "height": 266
        },
        "id": "XJHfvyRS1rzN",
        "outputId": "21f7722d-9054-4c7d-9ef9-1dd3c1c786d5"
      },
      "execution_count": 51,
      "outputs": [
        {
          "output_type": "display_data",
          "data": {
            "image/png": "[encoded data removed]",
            "text/plain": [
              "<IPython.core.display.Image object>"
            ]
          },
          "metadata": {}
        }
      ]
    },
    {
      "cell_type": "code",
      "source": [
        "\n",
        "# Example usage\n",
        "# Thread configuration\n",
        "config = {\"configurable\": {\"thread_id\": \"student_chatbot\"}}\n"
      ],
      "metadata": {
        "id": "VIAFxzy20Sy0"
      },
      "execution_count": 52,
      "outputs": []
    },
    {
      "cell_type": "code",
      "source": [
        "# User input\n",
        "messages = [HumanMessage(content=\"I have a complaint about the library timing.\")]"
      ],
      "metadata": {
        "id": "kyv-wvSo0Xc_"
      },
      "execution_count": 53,
      "outputs": []
    },
    {
      "cell_type": "code",
      "source": [
        "# Run the graph with memory\n",
        "messages = react_graph_memory.invoke({\"messages\": messages}, config)\n",
        "for m in messages['messages']:\n",
        "    print(m.pretty_print())"
      ],
      "metadata": {
        "colab": {
          "base_uri": "https://localhost:8080/"
        },
        "id": "NBHWlddQ0bfx",
        "outputId": "eace0689-6c70-4936-a8f0-f26519b20c34"
      },
      "execution_count": 54,
      "outputs": [
        {
          "output_type": "stream",
          "name": "stdout",
          "text": [
            "================================\u001b[1m Human Message \u001b[0m=================================\n",
            "\n",
            "I have a complaint about the library timing.\n",
            "None\n",
            "==================================\u001b[1m Ai Message \u001b[0m==================================\n",
            "Tool Calls:\n",
            "  submit_complaint (73a0bfdd-6464-4d05-b6dd-70de2d3d84c0)\n",
            " Call ID: 73a0bfdd-6464-4d05-b6dd-70de2d3d84c0\n",
            "  Args:\n",
            "    complaint: The library timing is inconvenient.\n",
            "None\n",
            "=================================\u001b[1m Tool Message \u001b[0m=================================\n",
            "Name: submit_complaint\n",
            "\n",
            "Your complaint has been submitted: 'The library timing is inconvenient.'. Thank you for your feedback!\n",
            "None\n",
            "==================================\u001b[1m Ai Message \u001b[0m==================================\n",
            "\n",
            "I have submitted your complaint about the library timing. Thank you for your feedback! Is there anything else?\n",
            "None\n"
          ]
        }
      ]
    },
    {
      "cell_type": "code",
      "source": [
        "# Continuing conversation\n",
        "messages = [HumanMessage(content=\"Can you suggest an outfit for a party?\")]\n",
        "messages = react_graph_memory.invoke({\"messages\": messages}, config)\n",
        "for m in messages['messages']:\n",
        "    print(m.pretty_print())\n"
      ],
      "metadata": {
        "colab": {
          "base_uri": "https://localhost:8080/"
        },
        "id": "rgotGl7O0eSt",
        "outputId": "cc33a1fa-6d93-4571-a19d-6f3153bfc699"
      },
      "execution_count": 38,
      "outputs": [
        {
          "output_type": "stream",
          "name": "stdout",
          "text": [
            "================================\u001b[1m Human Message \u001b[0m=================================\n",
            "\n",
            "I have a complaint about the library timing.\n",
            "None\n",
            "==================================\u001b[1m Ai Message \u001b[0m==================================\n",
            "Tool Calls:\n",
            "  submit_complaint (51d76945-9650-46c0-bf81-afb0a5e58289)\n",
            " Call ID: 51d76945-9650-46c0-bf81-afb0a5e58289\n",
            "  Args:\n",
            "    complaint: The library timing is inconvenient.\n",
            "None\n",
            "=================================\u001b[1m Tool Message \u001b[0m=================================\n",
            "Name: submit_complaint\n",
            "\n",
            "Your complaint has been submitted: 'The library timing is inconvenient.'. Thank you for your feedback!\n",
            "None\n",
            "==================================\u001b[1m Ai Message \u001b[0m==================================\n",
            "\n",
            "OK. I've submitted your complaint about the library timing. Is there anything else?\n",
            "None\n",
            "================================\u001b[1m Human Message \u001b[0m=================================\n",
            "\n",
            "I have a complaint about the library timing.\n",
            "None\n",
            "==================================\u001b[1m Ai Message \u001b[0m==================================\n",
            "Tool Calls:\n",
            "  submit_complaint (51cf75e4-718f-4975-b922-5528e3be6f20)\n",
            " Call ID: 51cf75e4-718f-4975-b922-5528e3be6f20\n",
            "  Args:\n",
            "    complaint: The library timing is inconvenient.\n",
            "None\n",
            "=================================\u001b[1m Tool Message \u001b[0m=================================\n",
            "Name: submit_complaint\n",
            "\n",
            "Your complaint has been submitted: 'The library timing is inconvenient.'. Thank you for your feedback!\n",
            "None\n",
            "==================================\u001b[1m Ai Message \u001b[0m==================================\n",
            "\n",
            "OK. I've submitted your complaint about the library timing. Is there anything else?\n",
            "None\n",
            "================================\u001b[1m Human Message \u001b[0m=================================\n",
            "\n",
            "Can you suggest an outfit for a party?\n",
            "None\n",
            "==================================\u001b[1m Ai Message \u001b[0m==================================\n",
            "Tool Calls:\n",
            "  give_outfit_idea (35f09df6-b858-4a7e-bfc6-cb4696fa038d)\n",
            " Call ID: 35f09df6-b858-4a7e-bfc6-cb4696fa038d\n",
            "  Args:\n",
            "    event: party\n",
            "None\n",
            "=================================\u001b[1m Tool Message \u001b[0m=================================\n",
            "Name: give_outfit_idea\n",
            "\n",
            "Wear a stylish dress or a shirt with trousers and comfortable shoes.\n",
            "None\n",
            "==================================\u001b[1m Ai Message \u001b[0m==================================\n",
            "\n",
            "For a party, I suggest wearing a stylish dress or a shirt with trousers and comfortable shoes.  Does that sound good?\n",
            "None\n"
          ]
        }
      ]
    },
    {
      "cell_type": "code",
      "source": [
        "# Continuing conversation\n",
        "messages = [HumanMessage(content=\"Can you suggest me study plane for cell membrane and nervous system , i have 5 hours ? . you can provide some enjoying topic for my refreshment i am soo tide\")]\n",
        "messages = react_graph_memory.invoke({\"messages\": messages}, config)\n",
        "for m in messages['messages']:\n",
        "    print(m.pretty_print())\n"
      ],
      "metadata": {
        "colab": {
          "base_uri": "https://localhost:8080/"
        },
        "id": "cID6ZbMm3JZI",
        "outputId": "c39666b3-b703-428e-f452-85ecca539b1a"
      },
      "execution_count": 55,
      "outputs": [
        {
          "output_type": "stream",
          "name": "stdout",
          "text": [
            "================================\u001b[1m Human Message \u001b[0m=================================\n",
            "\n",
            "I have a complaint about the library timing.\n",
            "None\n",
            "==================================\u001b[1m Ai Message \u001b[0m==================================\n",
            "Tool Calls:\n",
            "  submit_complaint (73a0bfdd-6464-4d05-b6dd-70de2d3d84c0)\n",
            " Call ID: 73a0bfdd-6464-4d05-b6dd-70de2d3d84c0\n",
            "  Args:\n",
            "    complaint: The library timing is inconvenient.\n",
            "None\n",
            "=================================\u001b[1m Tool Message \u001b[0m=================================\n",
            "Name: submit_complaint\n",
            "\n",
            "Your complaint has been submitted: 'The library timing is inconvenient.'. Thank you for your feedback!\n",
            "None\n",
            "==================================\u001b[1m Ai Message \u001b[0m==================================\n",
            "\n",
            "I have submitted your complaint about the library timing. Thank you for your feedback! Is there anything else?\n",
            "None\n",
            "================================\u001b[1m Human Message \u001b[0m=================================\n",
            "\n",
            "Can you suggest me study plane for cell membrane and nervous system , i have 5 hours ? . you can provide some enjoying topic for my refreshment i am soo tide\n",
            "None\n",
            "==================================\u001b[1m Ai Message \u001b[0m==================================\n",
            "Tool Calls:\n",
            "  give_study_plan (f48d35b4-689d-4901-b175-6d13c70811b4)\n",
            " Call ID: f48d35b4-689d-4901-b175-6d13c70811b4\n",
            "  Args:\n",
            "    subject: Cell Membrane and Nervous System\n",
            "    hours: 5.0\n",
            "None\n",
            "=================================\u001b[1m Tool Message \u001b[0m=================================\n",
            "Name: give_study_plan\n",
            "\n",
            "Study Plan: Spend 2 hours reviewing Cell Membrane and Nervous System theory and 2 hours solving problems.\n",
            "None\n",
            "==================================\u001b[1m Ai Message \u001b[0m==================================\n",
            "\n",
            "Here's a possible study plan for cell membranes and the nervous system, given 5 hours:\n",
            "\n",
            "**Cell Membrane (2 hours):**\n",
            "\n",
            "*   **Review (1 hour):** Focus on the structure (phospholipid bilayer, proteins, carbohydrates), functions (transport, cell signaling, cell recognition), and different types of transport (passive vs. active).  Use diagrams and flashcards to aid understanding.\n",
            "*   **Practice (1 hour):** Solve problems related to membrane transport, osmosis, diffusion, and the impact of different solutions on cells.\n",
            "\n",
            "**Nervous System (2 hours):**\n",
            "\n",
            "*   **Review (1 hour):** Cover the structure of neurons, types of neurons, neurotransmission (synaptic transmission, action potentials, neurotransmitters), and the different parts of the nervous system (central and peripheral).\n",
            "*   **Practice (1 hour):** Work through problems related to action potentials, neurotransmitter function, and the different pathways in the nervous system.\n",
            "\n",
            "**Refreshment (1 hour):**\n",
            "\n",
            "To avoid burnout, take a break!  Here are some ideas:\n",
            "\n",
            "*   **Watch a short, engaging video:** Look for animated explanations of cell processes or documentaries on the brain.\n",
            "*   **Listen to music:** Choose something relaxing or upbeat to improve your mood.\n",
            "*   **Light exercise:** A short walk or some stretching can help clear your head.\n",
            "*   **Mindfulness or meditation:** Even 10-15 minutes can reduce stress and improve focus.\n",
            "\n",
            "\n",
            "Remember to adjust this plan based on your own learning style and pace.  Good luck with your studies!\n",
            "None\n"
          ]
        }
      ]
    }
  ]
}